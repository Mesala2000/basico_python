{
 "cells": [
  {
   "cell_type": "code",
   "execution_count": 7,
   "id": "db093d3e-4322-437f-bb41-5e87ff647572",
   "metadata": {},
   "outputs": [],
   "source": [
    "import pandas as pd\n",
    "\n",
    "# Cargar el archivo CSV en un DataFrame\n",
    "df = pd.read_csv('959_elecciones_2023.csv')\n",
    "\n",
    "# Lista de columnas que deseas mantener\n",
    "columnas_a_mantener = [\"PARTIDO\",\"NUM_VOTOS\",\"PORCENTAJE\"]\n",
    "\n",
    "# Filtrar el DataFrame para mantener solo las columnas especificadas\n",
    "df_filtrado = df[columnas_a_mantener]\n",
    "\n",
    "# Guardar el DataFrame filtrado en un nuevo archivo CSV\n",
    "df_filtrado.to_csv('959_elecciones_2023_filtrado.csv', index=False)\n"
   ]
  }
 ],
 "metadata": {
  "kernelspec": {
   "display_name": "Python 3 (ipykernel)",
   "language": "python",
   "name": "python3"
  },
  "language_info": {
   "codemirror_mode": {
    "name": "ipython",
    "version": 3
   },
   "file_extension": ".py",
   "mimetype": "text/x-python",
   "name": "python",
   "nbconvert_exporter": "python",
   "pygments_lexer": "ipython3",
   "version": "3.12.2"
  }
 },
 "nbformat": 4,
 "nbformat_minor": 5
}
