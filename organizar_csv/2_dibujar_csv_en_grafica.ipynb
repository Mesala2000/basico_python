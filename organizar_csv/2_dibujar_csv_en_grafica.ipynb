{
 "cells": [
  {
   "cell_type": "code",
   "execution_count": null,
   "id": "e84125d1-8c8d-4f66-9b47-260a643b1dcf",
   "metadata": {},
   "outputs": [],
   "source": [
    "import pandas as pd\n",
    "import matplotlib.pyplot as plt\n",
    "\n",
    "# Cargar el archivo CSV en un DataFrame\n",
    "df = pd.read_csv('959_elecciones_2023_filtrado.csv')\n",
    "\n",
    "# Definir las columnas que deseas trazar\n",
    "columnas_a_trazar = [\"DISTRITO\",\"SECCION\",\"MESA\",\"PARTIDO\",\"NUM_VOTOS\",\"PORCENTAJE\"]\n",
    "\n",
    "# Tratar de dibujar las columnas seleccionadas\n",
    "for columna in columnas_a_trazar:\n",
    "    plt.plot(df.index, df[columna], label=columna)\n",
    "\n",
    "# Personalizar la apariencia del gráfico\n",
    "plt.title('Gráfico de datos filtrados')\n",
    "plt.xlabel('Índice')\n",
    "plt.ylabel('Valores')\n",
    "plt.legend()\n",
    "plt.grid(True)\n",
    "\n",
    "# Mostrar el gráfico\n",
    "plt.show()\n"
   ]
  }
 ],
 "metadata": {
  "kernelspec": {
   "display_name": "Python 3 (ipykernel)",
   "language": "python",
   "name": "python3"
  },
  "language_info": {
   "codemirror_mode": {
    "name": "ipython",
    "version": 3
   },
   "file_extension": ".py",
   "mimetype": "text/x-python",
   "name": "python",
   "nbconvert_exporter": "python",
   "pygments_lexer": "ipython3",
   "version": "3.12.2"
  }
 },
 "nbformat": 4,
 "nbformat_minor": 5
}
