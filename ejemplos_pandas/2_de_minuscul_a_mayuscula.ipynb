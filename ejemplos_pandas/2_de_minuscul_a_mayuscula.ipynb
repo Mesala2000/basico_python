{
 "cells": [
  {
   "cell_type": "code",
   "execution_count": 1,
   "id": "4296b121-6498-4ac4-977f-b8f3c8f78c80",
   "metadata": {},
   "outputs": [
    {
     "name": "stdout",
     "output_type": "stream",
     "text": [
      "       city state\n",
      "0    Sydney   NSW\n",
      "1  Brisbane   QLD\n",
      "2     Perth    SA\n"
     ]
    }
   ],
   "source": [
    "import pandas as pd\n",
    "import io\n",
    "\n",
    "city = r\"\"\"city,state\n",
    "sydney,nsw\n",
    "brisbane,qld\n",
    "perth,sa\n",
    "\"\"\"\n",
    "\n",
    "df = pd.read_csv(io.StringIO(city))\n",
    "\n",
    "df['state'] = df['state'].apply(lambda x: x.upper())\n",
    "df['city'] = df['city'].apply(lambda x: x.title())\n",
    "print(df)"
   ]
  },
  {
   "cell_type": "code",
   "execution_count": null,
   "id": "eafe6aa3-b9eb-4b73-8834-2e5744122188",
   "metadata": {},
   "outputs": [],
   "source": []
  }
 ],
 "metadata": {
  "kernelspec": {
   "display_name": "Python 3 (ipykernel)",
   "language": "python",
   "name": "python3"
  },
  "language_info": {
   "codemirror_mode": {
    "name": "ipython",
    "version": 3
   },
   "file_extension": ".py",
   "mimetype": "text/x-python",
   "name": "python",
   "nbconvert_exporter": "python",
   "pygments_lexer": "ipython3",
   "version": "3.12.2"
  }
 },
 "nbformat": 4,
 "nbformat_minor": 5
}
