{
 "cells": [
  {
   "cell_type": "code",
   "execution_count": 1,
   "id": "b3841731-a504-4ae0-94a6-6a0e807f79e5",
   "metadata": {},
   "outputs": [
    {
     "name": "stdout",
     "output_type": "stream",
     "text": [
      "   A  B  C      D\n",
      "0  9  9  3  904.5\n",
      "1  2  2  9  201.0\n",
      "2  7  8  0  704.0\n",
      "3  3  3  2  301.5\n"
     ]
    }
   ],
   "source": [
    "import pandas as pd\n",
    "import numpy as np\n",
    "\n",
    "# add some columns\n",
    "df = pd.DataFrame(np.random.randint(0, 10, (4, 3)), columns=list(['A', 'B', 'C']))\n",
    "df['D'] = df['A'] + df['C']\n",
    "\n",
    "# add some columns\n",
    "df = pd.DataFrame(np.random.randint(0, 10, (4, 3)), columns=list(['A', 'B', 'C']))\n",
    "df['D'] = df[['A', 'C']].sum(axis=1)\n",
    "\n",
    "# add all the columns\n",
    "df = pd.DataFrame(np.random.randint(0, 10, (4, 3)), columns=list(['A', 'B', 'C']))\n",
    "df['D'] = df[list(df.columns)].sum(axis=1)\n",
    "\n",
    "# use lambda\n",
    "df = pd.DataFrame(np.random.randint(0, 10, (4, 3)), columns=list(['A', 'B', 'C']))\n",
    "df['D'] = df.apply(lambda x: x['A'] * 100 + x['B'] / 2, axis=1)\n",
    "print(df)"
   ]
  },
  {
   "cell_type": "code",
   "execution_count": null,
   "id": "f2685b90-4697-4933-b326-a25f290e4e98",
   "metadata": {},
   "outputs": [],
   "source": []
  }
 ],
 "metadata": {
  "kernelspec": {
   "display_name": "Python 3 (ipykernel)",
   "language": "python",
   "name": "python3"
  },
  "language_info": {
   "codemirror_mode": {
    "name": "ipython",
    "version": 3
   },
   "file_extension": ".py",
   "mimetype": "text/x-python",
   "name": "python",
   "nbconvert_exporter": "python",
   "pygments_lexer": "ipython3",
   "version": "3.12.2"
  }
 },
 "nbformat": 4,
 "nbformat_minor": 5
}
