{
 "cells": [
  {
   "cell_type": "code",
   "execution_count": 2,
   "id": "c9d47b01-0c57-4c72-9f4d-87619226e6ee",
   "metadata": {},
   "outputs": [
    {
     "name": "stdout",
     "output_type": "stream",
     "text": [
      "         date weather\n",
      "0  2018-03-04   sunny\n",
      "1  2018-03-05   sunny\n",
      "2  2018-03-06   sunny\n"
     ]
    }
   ],
   "source": [
    "#Imprimir un listado y comprobar que todo está organizado en columnas.\n",
    "\n",
    "import pandas as pd\n",
    "import io\n",
    "\n",
    "str_data = r\"\"\"\n",
    "date,weather\n",
    "2018-03-04,sunny\n",
    "2018-03-05,sunny\n",
    "2018-03-06,sunny\n",
    "\"\"\"\n",
    "df = pd.read_csv(io.StringIO(str_data))\n",
    "\n",
    "assert (df['weather'] == 'sunny').all(), \"Values are not the same in the column\"\n",
    "print(df)"
   ]
  },
  {
   "cell_type": "code",
   "execution_count": null,
   "id": "96ac939b-7221-4467-a8f6-6bd409e5a18b",
   "metadata": {},
   "outputs": [],
   "source": []
  }
 ],
 "metadata": {
  "kernelspec": {
   "display_name": "Python 3 (ipykernel)",
   "language": "python",
   "name": "python3"
  },
  "language_info": {
   "codemirror_mode": {
    "name": "ipython",
    "version": 3
   },
   "file_extension": ".py",
   "mimetype": "text/x-python",
   "name": "python",
   "nbconvert_exporter": "python",
   "pygments_lexer": "ipython3",
   "version": "3.12.2"
  }
 },
 "nbformat": 4,
 "nbformat_minor": 5
}
